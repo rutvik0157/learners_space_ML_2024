{
 "cells": [
  {
   "cell_type": "code",
   "execution_count": 7,
   "metadata": {},
   "outputs": [
    {
     "name": "stdout",
     "output_type": "stream",
     "text": [
      "Note: you may need to restart the kernel to use updated packages.\n"
     ]
    }
   ],
   "source": [
    "pip install -q scikit-learn\n"
   ]
  },
  {
   "cell_type": "code",
   "execution_count": 8,
   "metadata": {},
   "outputs": [],
   "source": [
    "import zipfile\n",
    "import os\n"
   ]
  },
  {
   "cell_type": "code",
   "execution_count": 9,
   "metadata": {},
   "outputs": [],
   "source": [
    "zip_file_path=\"C:\\\\Users\\\\Rutvik Rathva\\\\OneDrive\\\\Desktop\\\\learner_space_ML\\\\homer_bart.zip\"\n",
    "extract_dir=\"C:\\\\Users\\\\Rutvik Rathva\\\\OneDrive\\\\Desktop\\\\learner_space_ML\\\\homer_bart\"\n",
    "os.makedirs(extract_dir, exist_ok=True)\n",
    "with zipfile.ZipFile(zip_file_path, 'r') as zip_ref:\n",
    "    zip_ref.extractall(extract_dir)"
   ]
  },
  {
   "cell_type": "code",
   "execution_count": 10,
   "metadata": {},
   "outputs": [
    {
     "name": "stdout",
     "output_type": "stream",
     "text": [
      "C:\\Users\\Rutvik Rathva\\OneDrive\\Desktop\\learner_space_ML\\homer_bart\n"
     ]
    }
   ],
   "source": [
    "dataset_dir=extract_dir\n",
    "print(dataset_dir)\n"
   ]
  },
  {
   "cell_type": "code",
   "execution_count": 11,
   "metadata": {},
   "outputs": [
    {
     "name": "stdout",
     "output_type": "stream",
     "text": [
      "Found 269 files belonging to 2 classes.\n",
      "Epoch 1/10\n",
      "8/8 [==============================] - 2s 11ms/step - loss: 479.1020 - accuracy: 0.5391\n",
      "Epoch 2/10\n",
      "8/8 [==============================] - 0s 15ms/step - loss: 249.4973 - accuracy: 0.5586\n",
      "Epoch 3/10\n",
      "8/8 [==============================] - 0s 10ms/step - loss: 47.1700 - accuracy: 0.6602\n",
      "Epoch 4/10\n",
      "8/8 [==============================] - 0s 13ms/step - loss: 21.4687 - accuracy: 0.7773\n",
      "Epoch 5/10\n",
      "8/8 [==============================] - 0s 10ms/step - loss: 14.4914 - accuracy: 0.8047\n",
      "Epoch 6/10\n",
      "8/8 [==============================] - 0s 9ms/step - loss: 10.4107 - accuracy: 0.8203\n",
      "Epoch 7/10\n",
      "8/8 [==============================] - 0s 9ms/step - loss: 17.0478 - accuracy: 0.7891\n",
      "Epoch 8/10\n",
      "8/8 [==============================] - 0s 10ms/step - loss: 29.2905 - accuracy: 0.6758\n",
      "Epoch 9/10\n",
      "8/8 [==============================] - 0s 12ms/step - loss: 4.8506 - accuracy: 0.8594\n",
      "Epoch 10/10\n",
      "8/8 [==============================] - 0s 9ms/step - loss: 3.7964 - accuracy: 0.8906\n",
      "1/1 [==============================] - 0s 276ms/step - loss: 0.1415 - accuracy: 0.9231\n",
      "Test accuracy: 92.30769276618958%\n"
     ]
    }
   ],
   "source": [
    "import numpy as np\n",
    "import tensorflow as tf\n",
    "import random\n",
    "from sklearn.model_selection import train_test_split\n",
    "from tensorflow import keras\n",
    "from tensorflow.keras import layers\n",
    "from tensorflow.keras.preprocessing import image_dataset_from_directory\n",
    "import random\n",
    "\n",
    "# Set random seeds for reproducibility\n",
    "np.random.seed(42)\n",
    "tf.random.set_seed(42)\n",
    "random.seed(42)\n",
    "\n",
    "# Load the dataset\n",
    "dataset = image_dataset_from_directory(\n",
    "    'C:\\\\Users\\\\Rutvik Rathva\\\\OneDrive\\\\Desktop\\\\learner_space_ML\\\\homer_bart',  # Replace with your dataset directory\n",
    "    image_size=(64, 64),\n",
    "    batch_size=32,\n",
    "    shuffle=True,\n",
    "    seed=42\n",
    ")\n",
    "\n",
    "# Split the dataset into training and test sets\n",
    "dataset_size = len(dataset)\n",
    "train_size = int(0.9 * dataset_size)\n",
    "test_size = dataset_size - train_size\n",
    "\n",
    "train_dataset = dataset.take(train_size)\n",
    "test_dataset = dataset.skip(train_size)\n",
    "\n",
    "\n",
    "# Define the model\n",
    "model = keras.Sequential([\n",
    "    layers.Flatten(input_shape=(64, 64, 3)),  # Flatten the input (for RGB images)\n",
    "    layers.Dense(64, activation='relu'),  # First hidden layer\n",
    "    layers.Dense(128, activation='relu'),  # Second hidden layer\n",
    "    layers.Dense(1, activation='sigmoid')  # Output layer for binary classification\n",
    "])\n",
    "\n",
    "# Compile the model\n",
    "model.compile(optimizer='adam',\n",
    "              loss='binary_crossentropy',\n",
    "              metrics=['accuracy'])\n",
    "\n",
    "# Train the model\n",
    "history = model.fit(train_dataset, epochs=10)\n",
    "\n",
    "# Evaluate the model on the test set\n",
    "test_loss, test_accuracy = model.evaluate(test_dataset)\n",
    "print(f\"Test accuracy: {test_accuracy * 100}%\")\n"
   ]
  }
 ],
 "metadata": {
  "kernelspec": {
   "display_name": "Python 3",
   "language": "python",
   "name": "python3"
  },
  "language_info": {
   "codemirror_mode": {
    "name": "ipython",
    "version": 3
   },
   "file_extension": ".py",
   "mimetype": "text/x-python",
   "name": "python",
   "nbconvert_exporter": "python",
   "pygments_lexer": "ipython3",
   "version": "3.11.3"
  }
 },
 "nbformat": 4,
 "nbformat_minor": 2
}
